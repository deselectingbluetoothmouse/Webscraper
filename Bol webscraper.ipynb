{
 "cells": [
  {
   "cell_type": "code",
   "execution_count": null,
   "id": "283dbf3c",
   "metadata": {},
   "outputs": [],
   "source": [
    "from bs4 import BeautifulSoup\n",
    "\n",
    "import time\n",
    "import datetime\n",
    "\n",
    "import smtplib\n",
    "import requests"
   ]
  },
  {
   "cell_type": "code",
   "execution_count": 93,
   "id": "991b4fd6",
   "metadata": {
    "scrolled": false
   },
   "outputs": [
    {
     "name": "stdout",
     "output_type": "stream",
     "text": [
      "\n",
      "\n",
      "         Intel NUC Compleet PC | Intel Core i7 / 10710U | 32 GB DDR4 | 480 GB SSD | HDMI | USB-C | Windows 10 Pro\n",
      "        \n",
      "\n",
      "\n",
      "\n",
      "\n",
      "\n",
      "\n",
      "                935\n",
      "                \n",
      "                 -\n",
      "                \n",
      "\n",
      "\n",
      "\n",
      "\n",
      "\n"
     ]
    }
   ],
   "source": [
    "# Connect to Website and pull in data\n",
    "# import libraries into this block!!\n",
    "\n",
    "\n",
    "URL = 'https://www.bol.com/nl/nl/p/intel-nuc-compleet-pc-intel-core-i7-10710u-32-gb-ddr4-480-gb-ssd-hdmi-usb-c-windows-10-pro/9300000004771008/?bltgh=ho6kxX9TXGsDDI19yEVMKA.2_33.42.ProductImage'\n",
    "\n",
    "headers = {\"User-Agent\": \"Mozilla/5.0 (Windows NT 10.0; Win64; x64) AppleWebKit/537.36 (KHTML, like Gecko) Chrome/101.0.4951.67 Safari/537.36\", \"Accept-Encoding\":\"gzip, deflate\", \"Accept\":\"text/html,application/xhtml+xml,application/xml;q=0.9,*/*;q=0.8\", \"DNT\":\"1\",\"Connection\":\"close\", \"Upgrade-Insecure-Requests\":\"1\"}\n",
    "\n",
    "page = requests.get(URL, headers=headers)\n",
    "\n",
    "soup1 = BeautifulSoup(page.content, \"lxml\")\n",
    "\n",
    "soup2 = BeautifulSoup(soup1.prettify(), \"lxml\")\n",
    "\n",
    "title = soup2.h1.get_text()\n",
    "\n",
    "print(title)\n",
    "\n",
    "price = soup2.find(\"section\").get_text()\n",
    "print(price)\n",
    "\n",
    "# title = soup2.find(id ='title').get_text()\n",
    "# print(title)\n",
    "# price = soup2.find(id='priceblock_ourprice').get_text()\n",
    "\n",
    "\n",
    "# print(title)\n",
    "# print(price)"
   ]
  },
  {
   "cell_type": "code",
   "execution_count": 97,
   "id": "e0bcb4d8",
   "metadata": {
    "scrolled": true
   },
   "outputs": [
    {
     "name": "stdout",
     "output_type": "stream",
     "text": [
      "Intel NUC Compleet PC | Intel Core i7 / 10710U | 32 GB DDR4 | 480 GB SSD | HDMI | USB-C | Windows 10 Pro\n",
      "935\n"
     ]
    }
   ],
   "source": [
    "price = price.strip(\" -\\n'\")\n",
    "title = title.strip()\n",
    "print(title)\n",
    "print(price)"
   ]
  },
  {
   "cell_type": "code",
   "execution_count": 98,
   "id": "e3399201",
   "metadata": {},
   "outputs": [
    {
     "name": "stdout",
     "output_type": "stream",
     "text": [
      "2022-05-22\n"
     ]
    }
   ],
   "source": [
    "# Create a Timestamp for your output to track when data was collected\n",
    "\n",
    "import datetime\n",
    "\n",
    "today = datetime.date.today()\n",
    "\n",
    "print(today)"
   ]
  },
  {
   "cell_type": "code",
   "execution_count": 99,
   "id": "23103aa5",
   "metadata": {},
   "outputs": [],
   "source": [
    "# Create CSV and write headers and data into the file\n",
    "\n",
    "import csv \n",
    "\n",
    "header = ['Title', 'Price', 'Date']\n",
    "data = [title, price, today]\n",
    "\n",
    "\n",
    "# with open('BolScraperDataset.csv', 'w', newline='', encoding='UTF8') as f:\n",
    "#     writer = csv.writer(f)\n",
    "#     writer.writerow(header)\n",
    "#     writer.writerow(data)\n",
    "    "
   ]
  },
  {
   "cell_type": "code",
   "execution_count": 108,
   "id": "1eae56a2",
   "metadata": {},
   "outputs": [
    {
     "name": "stdout",
     "output_type": "stream",
     "text": [
      "                                               Title  Price        Date\n",
      "0  Intel NUC Compleet PC | Intel Core i7 / 10710U...    935  2022-05-22\n",
      "1  Intel NUC Compleet PC | Intel Core i7 / 10710U...    935  2022-05-22\n",
      "2  Intel NUC Compleet PC | Intel Core i7 / 10710U...    935  2022-05-22\n"
     ]
    }
   ],
   "source": [
    "import pandas as pd\n",
    "\n",
    "df = pd.read_csv(r'BolScraperDataset.csv')\n",
    "\n",
    "print(df)"
   ]
  },
  {
   "cell_type": "code",
   "execution_count": 107,
   "id": "8cbbd399",
   "metadata": {},
   "outputs": [],
   "source": [
    "#Now we are appending data to the csv\n",
    "\n",
    "with open('BolScraperDataset.csv', 'a+', newline='', encoding='UTF8') as f:\n",
    "    writer = csv.writer(f)\n",
    "    writer.writerow(data)"
   ]
  },
  {
   "cell_type": "code",
   "execution_count": 117,
   "id": "022070bc",
   "metadata": {},
   "outputs": [],
   "source": [
    "def check_price():\n",
    "    URL = 'https://www.bol.com/nl/nl/p/intel-nuc-compleet-pc-intel-core-i7-10710u-32-gb-ddr4-480-gb-ssd-hdmi-usb-c-windows-10-pro/9300000004771008/?bltgh=ho6kxX9TXGsDDI19yEVMKA.2_33.42.ProductImage'\n",
    "\n",
    "    headers = {\"User-Agent\": \"Mozilla/5.0 (Windows NT 10.0; Win64; x64) AppleWebKit/537.36 (KHTML, like Gecko) Chrome/101.0.4951.67 Safari/537.36\", \"Accept-Encoding\":\"gzip, deflate\", \"Accept\":\"text/html,application/xhtml+xml,application/xml;q=0.9,*/*;q=0.8\", \"DNT\":\"1\",\"Connection\":\"close\", \"Upgrade-Insecure-Requests\":\"1\"}\n",
    "\n",
    "    page = requests.get(URL, headers=headers)\n",
    "\n",
    "    soup1 = BeautifulSoup(page.content, \"lxml\")\n",
    "\n",
    "    soup2 = BeautifulSoup(soup1.prettify(), \"lxml\")\n",
    "\n",
    "    title = soup2.h1.get_text()\n",
    "\n",
    "    price = soup2.find(\"section\").get_text()\n",
    "\n",
    "    price = price.strip(\" -\\n'\")\n",
    "    \n",
    "    title = title.strip()\n",
    "    \n",
    "    import datetime\n",
    "\n",
    "    today = datetime.date.today()\n",
    "    \n",
    "    import csv \n",
    "\n",
    "    header = ['Title', 'Price', 'Date']\n",
    "    data = [title, price, today]\n",
    "    \n",
    "    with open('BolScraperDataset.csv', 'a+', newline='', encoding='UTF8') as f:\n",
    "        writer = csv.writer(f)\n",
    "        writer.writerow(data)\n",
    "        \n",
    "#     if(price <900):\n",
    "#         send_mail()\n"
   ]
  },
  {
   "cell_type": "code",
   "execution_count": null,
   "id": "3b17e614",
   "metadata": {},
   "outputs": [],
   "source": [
    "# Runs check_price after a set time and inputs data into your CSV\n",
    "\n",
    "while(True):\n",
    "    check_price()\n",
    "    time.sleep(86400)"
   ]
  },
  {
   "cell_type": "code",
   "execution_count": 1,
   "id": "476b0975",
   "metadata": {},
   "outputs": [
    {
     "name": "stdout",
     "output_type": "stream",
     "text": [
      "                                                Title  Price        Date\n",
      "0   Intel NUC Compleet PC | Intel Core i7 / 10710U...    935  2022-05-22\n",
      "1   Intel NUC Compleet PC | Intel Core i7 / 10710U...    935  2022-05-22\n",
      "2   Intel NUC Compleet PC | Intel Core i7 / 10710U...    935  2022-05-22\n",
      "3   Intel NUC Compleet PC | Intel Core i7 / 10710U...    935  2022-05-22\n",
      "4   Intel NUC Compleet PC | Intel Core i7 / 10710U...    935  2022-05-22\n",
      "5   Intel NUC Compleet PC | Intel Core i7 / 10710U...    935  2022-05-22\n",
      "6   Intel NUC Compleet PC | Intel Core i7 / 10710U...    935  2022-05-22\n",
      "7   Intel NUC Compleet PC | Intel Core i7 / 10710U...    935  2022-05-22\n",
      "8   Intel NUC Compleet PC | Intel Core i7 / 10710U...    935  2022-05-22\n",
      "9   Intel NUC Compleet PC | Intel Core i7 / 10710U...    935  2022-05-22\n",
      "10  Intel NUC Compleet PC | Intel Core i7 / 10710U...    935  2022-05-22\n",
      "11  Intel NUC Compleet PC | Intel Core i7 / 10710U...    935  2022-05-22\n",
      "12  Intel NUC Compleet PC | Intel Core i7 / 10710U...    935  2022-05-22\n",
      "13  Intel NUC Compleet PC | Intel Core i7 / 10710U...    935  2022-05-22\n",
      "14  Intel NUC Compleet PC | Intel Core i7 / 10710U...    935  2022-05-22\n",
      "15  Intel NUC Compleet PC | Intel Core i7 / 10710U...    935  2022-05-22\n",
      "16  Intel NUC Compleet PC | Intel Core i7 / 10710U...    935  2022-05-22\n",
      "17  Intel NUC Compleet PC | Intel Core i7 / 10710U...    935  2022-05-22\n",
      "18  Intel NUC Compleet PC | Intel Core i7 / 10710U...    935  2022-05-22\n",
      "19  Intel NUC Compleet PC | Intel Core i7 / 10710U...    935  2022-05-22\n",
      "20  Intel NUC Compleet PC | Intel Core i7 / 10710U...    935  2022-05-22\n",
      "21  Intel NUC Compleet PC | Intel Core i7 / 10710U...    935  2022-05-22\n",
      "22  Intel NUC Compleet PC | Intel Core i7 / 10710U...    935  2022-05-22\n",
      "23  Intel NUC Compleet PC | Intel Core i7 / 10710U...    935  2022-05-22\n",
      "24  Intel NUC Compleet PC | Intel Core i7 / 10710U...    935  2022-05-22\n",
      "25  Intel NUC Compleet PC | Intel Core i7 / 10710U...    935  2022-05-22\n",
      "26  Intel NUC Compleet PC | Intel Core i7 / 10710U...    935  2022-05-22\n",
      "27  Intel NUC Compleet PC | Intel Core i7 / 10710U...    935  2022-05-22\n",
      "28  Intel NUC Compleet PC | Intel Core i7 / 10710U...    935  2022-05-22\n",
      "29  Intel NUC Compleet PC | Intel Core i7 / 10710U...    935  2022-05-22\n",
      "30  Intel NUC Compleet PC | Intel Core i7 / 10710U...    935  2022-05-22\n"
     ]
    }
   ],
   "source": [
    "import pandas as pd\n",
    "\n",
    "df = pd.read_csv(r'BolScraperDataset.csv')\n",
    "\n",
    "print(df)"
   ]
  },
  {
   "cell_type": "code",
   "execution_count": 116,
   "id": "9112302e",
   "metadata": {},
   "outputs": [],
   "source": [
    "# If uou want to send yourself an email when a price hits below a certain level you can try it\n",
    "# out with this script\n",
    "\n",
    "# def send_mail():\n",
    "#     server = smtplib.SMTP_SSL('smtp.gmail.com',465)\n",
    "#     server.ehlo()\n",
    "#     #server.starttls()\n",
    "#     server.ehlo()\n",
    "#     server.login('youremail@gmail.com','xxxxxxxxxxxxxx')\n",
    "    \n",
    "#     subject = \"The pc you want is below $950! Now is your chance to buy!\"\n",
    "#     body = \"Menno, theres a pc waiting for you\"\n",
    "   \n",
    "#     msg = f\"Subject: {subject}\\n\\n{body}\"\n",
    "    \n",
    "#     server.sendmail(\n",
    "#         'youremail@gmail.com',\n",
    "#         msg\n",
    "     \n",
    "#     )"
   ]
  }
 ],
 "metadata": {
  "kernelspec": {
   "display_name": "Python 3 (ipykernel)",
   "language": "python",
   "name": "python3"
  },
  "language_info": {
   "codemirror_mode": {
    "name": "ipython",
    "version": 3
   },
   "file_extension": ".py",
   "mimetype": "text/x-python",
   "name": "python",
   "nbconvert_exporter": "python",
   "pygments_lexer": "ipython3",
   "version": "3.9.12"
  }
 },
 "nbformat": 4,
 "nbformat_minor": 5
}
